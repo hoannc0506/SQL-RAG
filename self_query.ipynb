{
 "cells": [
  {
   "cell_type": "code",
   "execution_count": 1,
   "id": "f7ea3d30-f0c3-4b8f-a294-04a1bdb775a2",
   "metadata": {},
   "outputs": [],
   "source": [
    "from langchain.schema import Document\n",
    "from langchain_openai import OpenAIEmbeddings, ChatOpenAI\n",
    "from langchain.vectorstores import Chroma\n",
    "from uuid import uuid4"
   ]
  },
  {
   "cell_type": "code",
   "execution_count": 22,
   "id": "60bfa5a7-e4c4-4292-a53e-4ae3b6972009",
   "metadata": {},
   "outputs": [],
   "source": [
    "from IPython.display import display, Markdown"
   ]
  },
  {
   "cell_type": "code",
   "execution_count": 2,
   "id": "2e75a59f-c7ea-48b0-830d-7714089a7a2d",
   "metadata": {},
   "outputs": [],
   "source": [
    "embeddings = OpenAIEmbeddings(model=\"text-embedding-ada-002\")\n",
    "llm = ChatOpenAI(model=\"gpt-4o-mini\", temperature=0.1, top_p=0.9)"
   ]
  },
  {
   "cell_type": "markdown",
   "id": "ee0f403b-7889-4c47-a33e-2dddb0a8dc68",
   "metadata": {
    "jp-MarkdownHeadingCollapsed": true
   },
   "source": [
    "## Sample Data"
   ]
  },
  {
   "cell_type": "code",
   "execution_count": 3,
   "id": "2ca36dba-6112-470c-b24b-93a2c618c536",
   "metadata": {},
   "outputs": [],
   "source": [
    "docs = [\n",
    "    Document(\n",
    "        page_content=\"Complex, layered, rich red with dark fruit flavors\",\n",
    "        metadata={\"name\":\"Opus One\", \"year\": 2018, \"rating\": 96, \"grape\": \"Cabernet Sauvignon\", \"color\":\"red\", \"country\":\"USA\"},\n",
    "    ),\n",
    "    Document(\n",
    "        page_content=\"Luxurious, sweet wine with flavors of honey, apricot, and peach\",\n",
    "        metadata={\"name\":\"Château d'Yquem\", \"year\": 2015, \"rating\": 98, \"grape\": \"Sémillon\", \"color\":\"white\", \"country\":\"France\"},\n",
    "    ),\n",
    "    Document(\n",
    "        page_content=\"Full-bodied red with notes of black fruit and spice\",\n",
    "        metadata={\"name\":\"Penfolds Grange\", \"year\": 2017, \"rating\": 97, \"grape\": \"Shiraz\", \"color\":\"red\", \"country\":\"Australia\"},\n",
    "    ),\n",
    "    Document(\n",
    "        page_content=\"Elegant, balanced red with herbal and berry nuances\",\n",
    "        metadata={\"name\":\"Sassicaia\", \"year\": 2016, \"rating\": 95, \"grape\": \"Cabernet Franc\", \"color\":\"red\", \"country\":\"Italy\"},\n",
    "    ),\n",
    "    Document(\n",
    "        page_content=\"Highly sought-after Pinot Noir with red fruit and earthy notes\",\n",
    "        metadata={\"name\":\"Domaine de la Romanée-Conti\", \"year\": 2018, \"rating\": 100, \"grape\": \"Pinot Noir\", \"color\":\"red\", \"country\":\"France\"},\n",
    "    ),\n",
    "    Document(\n",
    "        page_content=\"Crisp white with tropical fruit and citrus flavors\",\n",
    "        metadata={\"name\":\"Cloudy Bay\", \"year\": 2021, \"rating\": 92, \"grape\": \"Sauvignon Blanc\", \"color\":\"white\", \"country\":\"New Zealand\"},\n",
    "    ),\n",
    "    Document(\n",
    "        page_content=\"Rich, complex Champagne with notes of brioche and citrus\",\n",
    "        metadata={\"name\":\"Krug Grande Cuvée\", \"year\": 2010, \"rating\": 93, \"grape\": \"Chardonnay blend\", \"color\":\"sparkling\", \"country\":\"New Zealand\"},\n",
    "    ),\n",
    "    Document(\n",
    "        page_content=\"Intense, dark fruit flavors with hints of chocolate\",\n",
    "        metadata={\"name\":\"Caymus Special Selection\", \"year\": 2018, \"rating\": 96, \"grape\": \"Cabernet Sauvignon\", \"color\":\"red\", \"country\":\"USA\"},\n",
    "    ),\n",
    "    Document(\n",
    "        page_content=\"Exotic, aromatic white with stone fruit and floral notes\",\n",
    "        metadata={\"name\":\"Jermann Vintage Tunina\", \"year\": 2020, \"rating\": 91, \"grape\": \"Sauvignon Blanc blend\", \"color\":\"white\", \"country\":\"Italy\"},\n",
    "    ),\n",
    "]"
   ]
  },
  {
   "cell_type": "code",
   "execution_count": 4,
   "id": "47b06656-5969-4b37-b534-401d627920ba",
   "metadata": {},
   "outputs": [
    {
     "data": {
      "text/plain": [
       "['5eaddc8f-e009-4cba-a713-4259a0fad5eb',\n",
       " '9db6ff17-2311-4495-8017-8b811b3e851e',\n",
       " 'c299bb6f-4927-4faa-bd1b-9c572218e414',\n",
       " '0cb91b80-ff05-446c-b0a0-e6ee6315b872']"
      ]
     },
     "execution_count": 4,
     "metadata": {},
     "output_type": "execute_result"
    }
   ],
   "source": [
    "uuids = [str(uuid4()) for _ in range(len(docs))]\n",
    "uuids[:4]"
   ]
  },
  {
   "cell_type": "code",
   "execution_count": 5,
   "id": "71aa320d-f4af-4155-bd61-4e2757ecab48",
   "metadata": {},
   "outputs": [
    {
     "name": "stderr",
     "output_type": "stream",
     "text": [
      "/opt/conda/envs/llm/lib/python3.10/site-packages/langchain_core/_api/deprecation.py:139: LangChainDeprecationWarning: The class `Chroma` was deprecated in LangChain 0.2.9 and will be removed in 0.4. An updated version of the class exists in the langchain-chroma package and should be used instead. To use it run `pip install -U langchain-chroma` and import as `from langchain_chroma import Chroma`.\n",
      "  warn_deprecated(\n"
     ]
    }
   ],
   "source": [
    "vectorstore = Chroma(\"self_query_test\", embeddings, persist_directory=\"./db/chroma/\")"
   ]
  },
  {
   "cell_type": "code",
   "execution_count": 6,
   "id": "d8d76f88-c240-49eb-ba58-7647d9f1e05e",
   "metadata": {},
   "outputs": [
    {
     "data": {
      "text/plain": [
       "['5eaddc8f-e009-4cba-a713-4259a0fad5eb',\n",
       " '9db6ff17-2311-4495-8017-8b811b3e851e',\n",
       " 'c299bb6f-4927-4faa-bd1b-9c572218e414',\n",
       " '0cb91b80-ff05-446c-b0a0-e6ee6315b872',\n",
       " '8c5be8a7-0e1e-4c3f-a832-d39d7b943c31',\n",
       " 'e5c9b395-63a8-4129-811b-4750474be853',\n",
       " '600a90e6-d4fd-4b36-b95c-a9b3aec04d0a',\n",
       " 'fb8f6b5a-21f0-4fb5-a731-8ef4a77bdef1',\n",
       " '3655a02a-b948-4fc0-ae0e-7f0e24e6ecff']"
      ]
     },
     "execution_count": 6,
     "metadata": {},
     "output_type": "execute_result"
    }
   ],
   "source": [
    "vectorstore.add_documents(documents=docs, ids=uuids)"
   ]
  },
  {
   "cell_type": "markdown",
   "id": "39563623-8d9e-4c96-8374-32fa13585456",
   "metadata": {},
   "source": [
    "## Create self-query retriever"
   ]
  },
  {
   "cell_type": "code",
   "execution_count": 7,
   "id": "d50914d7-5a29-4b34-9807-582bfd11f346",
   "metadata": {},
   "outputs": [],
   "source": [
    "from langchain.retrievers.self_query.base import SelfQueryRetriever\n",
    "from langchain.chains.query_constructor.base import AttributeInfo"
   ]
  },
  {
   "cell_type": "code",
   "execution_count": 8,
   "id": "13913cf0-9ee1-4817-b1d2-a6c124db6413",
   "metadata": {},
   "outputs": [],
   "source": [
    "metadata_field_info = [\n",
    "    AttributeInfo(\n",
    "        name=\"grape\",\n",
    "        description=\"The grape used to make the wine\",\n",
    "        type=\"string or list[string]\",\n",
    "    ),\n",
    "    AttributeInfo(\n",
    "        name=\"name\",\n",
    "        description=\"The name of the wine\",\n",
    "        type=\"string or list[string]\",\n",
    "    ),\n",
    "    AttributeInfo(\n",
    "        name=\"color\",\n",
    "        description=\"The color of the wine\",\n",
    "        type=\"string or list[string]\",\n",
    "    ),\n",
    "    AttributeInfo(\n",
    "        name=\"year\",\n",
    "        description=\"The year the wine was released\",\n",
    "        type=\"integer\",\n",
    "    ),\n",
    "    AttributeInfo(\n",
    "        name=\"country\",\n",
    "        description=\"The name of the country the wine comes from\",\n",
    "        type=\"string\",\n",
    "    ),\n",
    "    AttributeInfo(\n",
    "        name=\"rating\", description=\"The Robert Parker rating for the wine 0-100\", type=\"integer\" #float\n",
    "    ),\n",
    "]\n",
    "document_content_description = \"Brief description of the wine\""
   ]
  },
  {
   "cell_type": "code",
   "execution_count": 9,
   "id": "855f0920-c3b8-481c-a01d-3f7e44653267",
   "metadata": {},
   "outputs": [],
   "source": [
    "retriever = SelfQueryRetriever.from_llm(\n",
    "    llm,\n",
    "    vectorstore,\n",
    "    document_content_description,\n",
    "    metadata_field_info,\n",
    "    verbose=True\n",
    ")"
   ]
  },
  {
   "cell_type": "code",
   "execution_count": 10,
   "id": "c9492e35-ea3c-4731-b612-ebac0799936c",
   "metadata": {},
   "outputs": [
    {
     "name": "stderr",
     "output_type": "stream",
     "text": [
      "/opt/conda/envs/llm/lib/python3.10/site-packages/langchain_core/_api/deprecation.py:139: LangChainDeprecationWarning: The method `BaseRetriever.get_relevant_documents` was deprecated in langchain-core 0.1.46 and will be removed in 0.3.0. Use invoke instead.\n",
      "  warn_deprecated(\n"
     ]
    },
    {
     "data": {
      "text/plain": [
       "[Document(metadata={'color': 'red', 'country': 'Australia', 'grape': 'Shiraz', 'name': 'Penfolds Grange', 'rating': 97, 'year': 2017}, page_content='Full-bodied red with notes of black fruit and spice'),\n",
       " Document(metadata={'color': 'red', 'country': 'Italy', 'grape': 'Cabernet Franc', 'name': 'Sassicaia', 'rating': 95, 'year': 2016}, page_content='Elegant, balanced red with herbal and berry nuances'),\n",
       " Document(metadata={'color': 'red', 'country': 'USA', 'grape': 'Cabernet Sauvignon', 'name': 'Opus One', 'rating': 96, 'year': 2018}, page_content='Complex, layered, rich red with dark fruit flavors'),\n",
       " Document(metadata={'color': 'red', 'country': 'France', 'grape': 'Pinot Noir', 'name': 'Domaine de la Romanée-Conti', 'rating': 100, 'year': 2018}, page_content='Highly sought-after Pinot Noir with red fruit and earthy notes')]"
      ]
     },
     "execution_count": 10,
     "metadata": {},
     "output_type": "execute_result"
    }
   ],
   "source": [
    "retriever.get_relevant_documents(\"What are some red wines\")"
   ]
  },
  {
   "cell_type": "code",
   "execution_count": 11,
   "id": "33b30939-a272-4dc1-ba78-6a47a9a0ad51",
   "metadata": {},
   "outputs": [
    {
     "data": {
      "text/plain": [
       "[Document(metadata={'color': 'white', 'country': 'France', 'grape': 'Sémillon', 'name': \"Château d'Yquem\", 'rating': 98, 'year': 2015}, page_content='Luxurious, sweet wine with flavors of honey, apricot, and peach'),\n",
       " Document(metadata={'color': 'red', 'country': 'France', 'grape': 'Pinot Noir', 'name': 'Domaine de la Romanée-Conti', 'rating': 100, 'year': 2018}, page_content='Highly sought-after Pinot Noir with red fruit and earthy notes')]"
      ]
     },
     "execution_count": 11,
     "metadata": {},
     "output_type": "execute_result"
    }
   ],
   "source": [
    "# This example specifies a query and a filter\n",
    "retriever.get_relevant_documents(\"I want a wine that has fruity nodes and has a rating above 97\")"
   ]
  },
  {
   "cell_type": "markdown",
   "id": "355030b0-e686-4b13-b969-28a8088122cc",
   "metadata": {},
   "source": [
    "### Filter top-k"
   ]
  },
  {
   "cell_type": "code",
   "execution_count": 12,
   "id": "b3529bd1-330d-4ba5-b4c2-cdfa71839d97",
   "metadata": {},
   "outputs": [],
   "source": [
    "from langchain.callbacks.tracers import ConsoleCallbackHandler"
   ]
  },
  {
   "cell_type": "code",
   "execution_count": 13,
   "id": "203677a5-659c-4a95-9a48-c46525a8b28b",
   "metadata": {},
   "outputs": [],
   "source": [
    "retriever = SelfQueryRetriever.from_llm(\n",
    "    llm,\n",
    "    vectorstore,\n",
    "    document_content_description,\n",
    "    metadata_field_info,\n",
    "    enable_limit=True,\n",
    "    verbose=True,\n",
    ")"
   ]
  },
  {
   "cell_type": "code",
   "execution_count": 14,
   "id": "690ad968-b6a9-4335-8cee-13c2c7986154",
   "metadata": {
    "scrolled": true
   },
   "outputs": [
    {
     "name": "stdout",
     "output_type": "stream",
     "text": [
      "\u001b[32;1m\u001b[1;3m[chain/start]\u001b[0m \u001b[1m[retriever:Retriever > chain:query_constructor] Entering Chain run with input:\n",
      "\u001b[0m{\n",
      "  \"query\": \"what are two wines that come from australia or New zealand\"\n",
      "}\n",
      "\u001b[32;1m\u001b[1;3m[chain/start]\u001b[0m \u001b[1m[retriever:Retriever > chain:query_constructor > prompt:FewShotPromptTemplate] Entering Prompt run with input:\n",
      "\u001b[0m{\n",
      "  \"query\": \"what are two wines that come from australia or New zealand\"\n",
      "}\n",
      "\u001b[36;1m\u001b[1;3m[chain/end]\u001b[0m \u001b[1m[retriever:Retriever > chain:query_constructor > prompt:FewShotPromptTemplate] [1ms] Exiting Prompt run with output:\n",
      "\u001b[0m[outputs]\n",
      "\u001b[32;1m\u001b[1;3m[llm/start]\u001b[0m \u001b[1m[retriever:Retriever > chain:query_constructor > llm:ChatOpenAI] Entering LLM run with input:\n",
      "\u001b[0m{\n",
      "  \"prompts\": [\n",
      "    \"Human: Your goal is to structure the user's query to match the request schema provided below.\\n\\n<< Structured Request Schema >>\\nWhen responding use a markdown code snippet with a JSON object formatted in the following schema:\\n\\n```json\\n{\\n    \\\"query\\\": string \\\\ text string to compare to document contents\\n    \\\"filter\\\": string \\\\ logical condition statement for filtering documents\\n    \\\"limit\\\": int \\\\ the number of documents to retrieve\\n}\\n```\\n\\nThe query string should contain only text that is expected to match the contents of documents. Any conditions in the filter should not be mentioned in the query as well.\\n\\nA logical condition statement is composed of one or more comparison and logical operation statements.\\n\\nA comparison statement takes the form: `comp(attr, val)`:\\n- `comp` (eq | ne | gt | gte | lt | lte): comparator\\n- `attr` (string):  name of attribute to apply the comparison to\\n- `val` (string): is the comparison value\\n\\nA logical operation statement takes the form `op(statement1, statement2, ...)`:\\n- `op` (and | or): logical operator\\n- `statement1`, `statement2`, ... (comparison statements or logical operation statements): one or more statements to apply the operation to\\n\\nMake sure that you only use the comparators and logical operators listed above and no others.\\nMake sure that filters only refer to attributes that exist in the data source.\\nMake sure that filters only use the attributed names with its function names if there are functions applied on them.\\nMake sure that filters only use format `YYYY-MM-DD` when handling date data typed values.\\nMake sure that filters take into account the descriptions of attributes and only make comparisons that are feasible given the type of data being stored.\\nMake sure that filters are only used as needed. If there are no filters that should be applied return \\\"NO_FILTER\\\" for the filter value.\\nMake sure the `limit` is always an int value. It is an optional parameter so leave it blank if it does not make sense.\\n\\n\\n<< Example 1. >>\\nData Source:\\n```json\\n{\\n    \\\"content\\\": \\\"Lyrics of a song\\\",\\n    \\\"attributes\\\": {\\n        \\\"artist\\\": {\\n            \\\"type\\\": \\\"string\\\",\\n            \\\"description\\\": \\\"Name of the song artist\\\"\\n        },\\n        \\\"length\\\": {\\n            \\\"type\\\": \\\"integer\\\",\\n            \\\"description\\\": \\\"Length of the song in seconds\\\"\\n        },\\n        \\\"genre\\\": {\\n            \\\"type\\\": \\\"string\\\",\\n            \\\"description\\\": \\\"The song genre, one of \\\"pop\\\", \\\"rock\\\" or \\\"rap\\\"\\\"\\n        }\\n    }\\n}\\n```\\n\\nUser Query:\\nWhat are songs by Taylor Swift or Katy Perry about teenage romance under 3 minutes long in the dance pop genre\\n\\nStructured Request:\\n```json\\n{\\n    \\\"query\\\": \\\"teenager love\\\",\\n    \\\"filter\\\": \\\"and(or(eq(\\\\\\\"artist\\\\\\\", \\\\\\\"Taylor Swift\\\\\\\"), eq(\\\\\\\"artist\\\\\\\", \\\\\\\"Katy Perry\\\\\\\")), lt(\\\\\\\"length\\\\\\\", 180), eq(\\\\\\\"genre\\\\\\\", \\\\\\\"pop\\\\\\\"))\\\"\\n}\\n```\\n\\n\\n<< Example 2. >>\\nData Source:\\n```json\\n{\\n    \\\"content\\\": \\\"Lyrics of a song\\\",\\n    \\\"attributes\\\": {\\n        \\\"artist\\\": {\\n            \\\"type\\\": \\\"string\\\",\\n            \\\"description\\\": \\\"Name of the song artist\\\"\\n        },\\n        \\\"length\\\": {\\n            \\\"type\\\": \\\"integer\\\",\\n            \\\"description\\\": \\\"Length of the song in seconds\\\"\\n        },\\n        \\\"genre\\\": {\\n            \\\"type\\\": \\\"string\\\",\\n            \\\"description\\\": \\\"The song genre, one of \\\"pop\\\", \\\"rock\\\" or \\\"rap\\\"\\\"\\n        }\\n    }\\n}\\n```\\n\\nUser Query:\\nWhat are songs that were not published on Spotify\\n\\nStructured Request:\\n```json\\n{\\n    \\\"query\\\": \\\"\\\",\\n    \\\"filter\\\": \\\"NO_FILTER\\\"\\n}\\n```\\n\\n\\n<< Example 3. >>\\nData Source:\\n```json\\n{\\n    \\\"content\\\": \\\"Lyrics of a song\\\",\\n    \\\"attributes\\\": {\\n        \\\"artist\\\": {\\n            \\\"type\\\": \\\"string\\\",\\n            \\\"description\\\": \\\"Name of the song artist\\\"\\n        },\\n        \\\"length\\\": {\\n            \\\"type\\\": \\\"integer\\\",\\n            \\\"description\\\": \\\"Length of the song in seconds\\\"\\n        },\\n        \\\"genre\\\": {\\n            \\\"type\\\": \\\"string\\\",\\n            \\\"description\\\": \\\"The song genre, one of \\\"pop\\\", \\\"rock\\\" or \\\"rap\\\"\\\"\\n        }\\n    }\\n}\\n```\\n\\nUser Query:\\nWhat are three songs about love\\n\\nStructured Request:\\n```json\\n{\\n    \\\"query\\\": \\\"love\\\",\\n    \\\"filter\\\": \\\"NO_FILTER\\\",\\n    \\\"limit\\\": 2\\n}\\n```\\n\\n\\n<< Example 4. >>\\nData Source:\\n```json\\n{\\n    \\\"content\\\": \\\"Brief description of the wine\\\",\\n    \\\"attributes\\\": {\\n    \\\"grape\\\": {\\n        \\\"description\\\": \\\"The grape used to make the wine\\\",\\n        \\\"type\\\": \\\"string or list[string]\\\"\\n    },\\n    \\\"name\\\": {\\n        \\\"description\\\": \\\"The name of the wine\\\",\\n        \\\"type\\\": \\\"string or list[string]\\\"\\n    },\\n    \\\"color\\\": {\\n        \\\"description\\\": \\\"The color of the wine\\\",\\n        \\\"type\\\": \\\"string or list[string]\\\"\\n    },\\n    \\\"year\\\": {\\n        \\\"description\\\": \\\"The year the wine was released\\\",\\n        \\\"type\\\": \\\"integer\\\"\\n    },\\n    \\\"country\\\": {\\n        \\\"description\\\": \\\"The name of the country the wine comes from\\\",\\n        \\\"type\\\": \\\"string\\\"\\n    },\\n    \\\"rating\\\": {\\n        \\\"description\\\": \\\"The Robert Parker rating for the wine 0-100\\\",\\n        \\\"type\\\": \\\"integer\\\"\\n    }\\n}\\n}\\n```\\n\\nUser Query:\\nwhat are two wines that come from australia or New zealand\\n\\nStructured Request:\"\n",
      "  ]\n",
      "}\n",
      "\u001b[36;1m\u001b[1;3m[llm/end]\u001b[0m \u001b[1m[retriever:Retriever > chain:query_constructor > llm:ChatOpenAI] [1.65s] Exiting LLM run with output:\n",
      "\u001b[0m{\n",
      "  \"generations\": [\n",
      "    [\n",
      "      {\n",
      "        \"text\": \"```json\\n{\\n    \\\"query\\\": \\\"\\\",\\n    \\\"filter\\\": \\\"or(eq(\\\\\\\"country\\\\\\\", \\\\\\\"Australia\\\\\\\"), eq(\\\\\\\"country\\\\\\\", \\\\\\\"New Zealand\\\\\\\"))\\\",\\n    \\\"limit\\\": 2\\n}\\n```\",\n",
      "        \"generation_info\": {\n",
      "          \"finish_reason\": \"stop\",\n",
      "          \"logprobs\": null\n",
      "        },\n",
      "        \"type\": \"ChatGeneration\",\n",
      "        \"message\": {\n",
      "          \"lc\": 1,\n",
      "          \"type\": \"constructor\",\n",
      "          \"id\": [\n",
      "            \"langchain\",\n",
      "            \"schema\",\n",
      "            \"messages\",\n",
      "            \"AIMessage\"\n",
      "          ],\n",
      "          \"kwargs\": {\n",
      "            \"content\": \"```json\\n{\\n    \\\"query\\\": \\\"\\\",\\n    \\\"filter\\\": \\\"or(eq(\\\\\\\"country\\\\\\\", \\\\\\\"Australia\\\\\\\"), eq(\\\\\\\"country\\\\\\\", \\\\\\\"New Zealand\\\\\\\"))\\\",\\n    \\\"limit\\\": 2\\n}\\n```\",\n",
      "            \"response_metadata\": {\n",
      "              \"token_usage\": {\n",
      "                \"completion_tokens\": 42,\n",
      "                \"prompt_tokens\": 1168,\n",
      "                \"total_tokens\": 1210\n",
      "              },\n",
      "              \"model_name\": \"gpt-4o-mini-2024-07-18\",\n",
      "              \"system_fingerprint\": \"fp_48196bc67a\",\n",
      "              \"finish_reason\": \"stop\",\n",
      "              \"logprobs\": null\n",
      "            },\n",
      "            \"type\": \"ai\",\n",
      "            \"id\": \"run-c2c27eff-36ac-4df4-a9d3-c646bb192344-0\",\n",
      "            \"usage_metadata\": {\n",
      "              \"input_tokens\": 1168,\n",
      "              \"output_tokens\": 42,\n",
      "              \"total_tokens\": 1210\n",
      "            },\n",
      "            \"tool_calls\": [],\n",
      "            \"invalid_tool_calls\": []\n",
      "          }\n",
      "        }\n",
      "      }\n",
      "    ]\n",
      "  ],\n",
      "  \"llm_output\": {\n",
      "    \"token_usage\": {\n",
      "      \"completion_tokens\": 42,\n",
      "      \"prompt_tokens\": 1168,\n",
      "      \"total_tokens\": 1210\n",
      "    },\n",
      "    \"model_name\": \"gpt-4o-mini-2024-07-18\",\n",
      "    \"system_fingerprint\": \"fp_48196bc67a\"\n",
      "  },\n",
      "  \"run\": null\n",
      "}\n",
      "\u001b[32;1m\u001b[1;3m[chain/start]\u001b[0m \u001b[1m[retriever:Retriever > chain:query_constructor > parser:StructuredQueryOutputParser] Entering Parser run with input:\n",
      "\u001b[0m[inputs]\n",
      "\u001b[36;1m\u001b[1;3m[chain/end]\u001b[0m \u001b[1m[retriever:Retriever > chain:query_constructor > parser:StructuredQueryOutputParser] [2ms] Exiting Parser run with output:\n",
      "\u001b[0m[outputs]\n",
      "\u001b[36;1m\u001b[1;3m[chain/end]\u001b[0m \u001b[1m[retriever:Retriever > chain:query_constructor] [1.66s] Exiting Chain run with output:\n",
      "\u001b[0m[outputs]\n"
     ]
    }
   ],
   "source": [
    "handler = ConsoleCallbackHandler()\n",
    "docs = retriever.get_relevant_documents(\"what are two wines that come from australia or New zealand\", callbacks=[handler])"
   ]
  },
  {
   "cell_type": "code",
   "execution_count": 26,
   "id": "e2f041e8-18df-4aa1-ae9c-a3021d899d1c",
   "metadata": {
    "scrolled": true
   },
   "outputs": [
    {
     "data": {
      "text/plain": [
       "SelfQueryRetriever(vectorstore=<langchain_community.vectorstores.chroma.Chroma object at 0x7f0769a4dd20>, query_constructor=RunnableBinding(bound=FewShotPromptTemplate(input_variables=['query'], examples=[{'i': 1, 'data_source': '```json\\n{{\\n    \"content\": \"Lyrics of a song\",\\n    \"attributes\": {{\\n        \"artist\": {{\\n            \"type\": \"string\",\\n            \"description\": \"Name of the song artist\"\\n        }},\\n        \"length\": {{\\n            \"type\": \"integer\",\\n            \"description\": \"Length of the song in seconds\"\\n        }},\\n        \"genre\": {{\\n            \"type\": \"string\",\\n            \"description\": \"The song genre, one of \"pop\", \"rock\" or \"rap\"\"\\n        }}\\n    }}\\n}}\\n```', 'user_query': 'What are songs by Taylor Swift or Katy Perry about teenage romance under 3 minutes long in the dance pop genre', 'structured_request': '```json\\n{{\\n    \"query\": \"teenager love\",\\n    \"filter\": \"and(or(eq(\\\\\"artist\\\\\", \\\\\"Taylor Swift\\\\\"), eq(\\\\\"artist\\\\\", \\\\\"Katy Perry\\\\\")), lt(\\\\\"length\\\\\", 180), eq(\\\\\"genre\\\\\", \\\\\"pop\\\\\"))\"\\n}}\\n```'}, {'i': 2, 'data_source': '```json\\n{{\\n    \"content\": \"Lyrics of a song\",\\n    \"attributes\": {{\\n        \"artist\": {{\\n            \"type\": \"string\",\\n            \"description\": \"Name of the song artist\"\\n        }},\\n        \"length\": {{\\n            \"type\": \"integer\",\\n            \"description\": \"Length of the song in seconds\"\\n        }},\\n        \"genre\": {{\\n            \"type\": \"string\",\\n            \"description\": \"The song genre, one of \"pop\", \"rock\" or \"rap\"\"\\n        }}\\n    }}\\n}}\\n```', 'user_query': 'What are songs that were not published on Spotify', 'structured_request': '```json\\n{{\\n    \"query\": \"\",\\n    \"filter\": \"NO_FILTER\"\\n}}\\n```'}, {'i': 3, 'data_source': '```json\\n{{\\n    \"content\": \"Lyrics of a song\",\\n    \"attributes\": {{\\n        \"artist\": {{\\n            \"type\": \"string\",\\n            \"description\": \"Name of the song artist\"\\n        }},\\n        \"length\": {{\\n            \"type\": \"integer\",\\n            \"description\": \"Length of the song in seconds\"\\n        }},\\n        \"genre\": {{\\n            \"type\": \"string\",\\n            \"description\": \"The song genre, one of \"pop\", \"rock\" or \"rap\"\"\\n        }}\\n    }}\\n}}\\n```', 'user_query': 'What are three songs about love', 'structured_request': '```json\\n{{\\n    \"query\": \"love\",\\n    \"filter\": \"NO_FILTER\",\\n    \"limit\": 2\\n}}\\n```'}], example_prompt=PromptTemplate(input_variables=['data_source', 'i', 'structured_request', 'user_query'], template='<< Example {i}. >>\\nData Source:\\n{data_source}\\n\\nUser Query:\\n{user_query}\\n\\nStructured Request:\\n{structured_request}\\n'), suffix='<< Example 4. >>\\nData Source:\\n```json\\n{{\\n    \"content\": \"Brief description of the wine\",\\n    \"attributes\": {{\\n    \"grape\": {{\\n        \"description\": \"The grape used to make the wine\",\\n        \"type\": \"string or list[string]\"\\n    }},\\n    \"name\": {{\\n        \"description\": \"The name of the wine\",\\n        \"type\": \"string or list[string]\"\\n    }},\\n    \"color\": {{\\n        \"description\": \"The color of the wine\",\\n        \"type\": \"string or list[string]\"\\n    }},\\n    \"year\": {{\\n        \"description\": \"The year the wine was released\",\\n        \"type\": \"integer\"\\n    }},\\n    \"country\": {{\\n        \"description\": \"The name of the country the wine comes from\",\\n        \"type\": \"string\"\\n    }},\\n    \"rating\": {{\\n        \"description\": \"The Robert Parker rating for the wine 0-100\",\\n        \"type\": \"integer\"\\n    }}\\n}}\\n}}\\n```\\n\\nUser Query:\\n{query}\\n\\nStructured Request:\\n', prefix='Your goal is to structure the user\\'s query to match the request schema provided below.\\n\\n<< Structured Request Schema >>\\nWhen responding use a markdown code snippet with a JSON object formatted in the following schema:\\n\\n```json\\n{{\\n    \"query\": string \\\\ text string to compare to document contents\\n    \"filter\": string \\\\ logical condition statement for filtering documents\\n    \"limit\": int \\\\ the number of documents to retrieve\\n}}\\n```\\n\\nThe query string should contain only text that is expected to match the contents of documents. Any conditions in the filter should not be mentioned in the query as well.\\n\\nA logical condition statement is composed of one or more comparison and logical operation statements.\\n\\nA comparison statement takes the form: `comp(attr, val)`:\\n- `comp` (eq | ne | gt | gte | lt | lte): comparator\\n- `attr` (string):  name of attribute to apply the comparison to\\n- `val` (string): is the comparison value\\n\\nA logical operation statement takes the form `op(statement1, statement2, ...)`:\\n- `op` (and | or): logical operator\\n- `statement1`, `statement2`, ... (comparison statements or logical operation statements): one or more statements to apply the operation to\\n\\nMake sure that you only use the comparators and logical operators listed above and no others.\\nMake sure that filters only refer to attributes that exist in the data source.\\nMake sure that filters only use the attributed names with its function names if there are functions applied on them.\\nMake sure that filters only use format `YYYY-MM-DD` when handling date data typed values.\\nMake sure that filters take into account the descriptions of attributes and only make comparisons that are feasible given the type of data being stored.\\nMake sure that filters are only used as needed. If there are no filters that should be applied return \"NO_FILTER\" for the filter value.\\nMake sure the `limit` is always an int value. It is an optional parameter so leave it blank if it does not make sense.\\n')\n",
       "| ChatOpenAI(client=<openai.resources.chat.completions.Completions object at 0x7f0769ad67a0>, async_client=<openai.resources.chat.completions.AsyncCompletions object at 0x7f0769ae88e0>, model_name='gpt-4o-mini', temperature=0.1, openai_api_key=SecretStr('**********'), openai_proxy='', top_p=0.9)\n",
       "| StructuredQueryOutputParser(ast_parse=<bound method Lark.parse of Lark(open('<string>'), parser='lalr', lexer='contextual', ...)>), config={'run_name': 'query_constructor'}), structured_query_translator=<langchain_community.query_constructors.chroma.ChromaTranslator object at 0x7f075d3fac80>, verbose=True)"
      ]
     },
     "execution_count": 26,
     "metadata": {},
     "output_type": "execute_result"
    }
   ],
   "source": [
    "retriever"
   ]
  },
  {
   "cell_type": "code",
   "execution_count": 21,
   "id": "df443693-a484-41fb-89b0-c78f8a56cbd6",
   "metadata": {
    "scrolled": true
   },
   "outputs": [
    {
     "name": "stdout",
     "output_type": "stream",
     "text": [
      "Your goal is to structure the user's query to match the request schema provided below.\n",
      "\n",
      "<< Structured Request Schema >>\n",
      "When responding use a markdown code snippet with a JSON object formatted in the following schema:\n",
      "\n",
      "```json\n",
      "{\n",
      "    \"query\": string \\ text string to compare to document contents\n",
      "    \"filter\": string \\ logical condition statement for filtering documents\n",
      "    \"limit\": int \\ the number of documents to retrieve\n",
      "}\n",
      "```\n",
      "\n",
      "The query string should contain only text that is expected to match the contents of documents. Any conditions in the filter should not be mentioned in the query as well.\n",
      "\n",
      "A logical condition statement is composed of one or more comparison and logical operation statements.\n",
      "\n",
      "A comparison statement takes the form: `comp(attr, val)`:\n",
      "- `comp` (eq | ne | gt | gte | lt | lte): comparator\n",
      "- `attr` (string):  name of attribute to apply the comparison to\n",
      "- `val` (string): is the comparison value\n",
      "\n",
      "A logical operation statement takes the form `op(statement1, statement2, ...)`:\n",
      "- `op` (and | or): logical operator\n",
      "- `statement1`, `statement2`, ... (comparison statements or logical operation statements): one or more statements to apply the operation to\n",
      "\n",
      "Make sure that you only use the comparators and logical operators listed above and no others.\n",
      "Make sure that filters only refer to attributes that exist in the data source.\n",
      "Make sure that filters only use the attributed names with its function names if there are functions applied on them.\n",
      "Make sure that filters only use format `YYYY-MM-DD` when handling date data typed values.\n",
      "Make sure that filters take into account the descriptions of attributes and only make comparisons that are feasible given the type of data being stored.\n",
      "Make sure that filters are only used as needed. If there are no filters that should be applied return \"NO_FILTER\" for the filter value.\n",
      "Make sure the `limit` is always an int value. It is an optional parameter so leave it blank if it does not make sense.\n",
      "\n",
      "\n",
      "<< Example 1. >>\n",
      "Data Source:\n",
      "```json\n",
      "{\n",
      "    \"content\": \"Lyrics of a song\",\n",
      "    \"attributes\": {\n",
      "        \"artist\": {\n",
      "            \"type\": \"string\",\n",
      "            \"description\": \"Name of the song artist\"\n",
      "        },\n",
      "        \"length\": {\n",
      "            \"type\": \"integer\",\n",
      "            \"description\": \"Length of the song in seconds\"\n",
      "        },\n",
      "        \"genre\": {\n",
      "            \"type\": \"string\",\n",
      "            \"description\": \"The song genre, one of \"pop\", \"rock\" or \"rap\"\"\n",
      "        }\n",
      "    }\n",
      "}\n",
      "```\n",
      "\n",
      "User Query:\n",
      "What are songs by Taylor Swift or Katy Perry about teenage romance under 3 minutes long in the dance pop genre\n",
      "\n",
      "Structured Request:\n",
      "```json\n",
      "{\n",
      "    \"query\": \"teenager love\",\n",
      "    \"filter\": \"and(or(eq(\\\"artist\\\", \\\"Taylor Swift\\\"), eq(\\\"artist\\\", \\\"Katy Perry\\\")), lt(\\\"length\\\", 180), eq(\\\"genre\\\", \\\"pop\\\"))\"\n",
      "}\n",
      "```\n",
      "\n",
      "\n",
      "<< Example 2. >>\n",
      "Data Source:\n",
      "```json\n",
      "{\n",
      "    \"content\": \"Lyrics of a song\",\n",
      "    \"attributes\": {\n",
      "        \"artist\": {\n",
      "            \"type\": \"string\",\n",
      "            \"description\": \"Name of the song artist\"\n",
      "        },\n",
      "        \"length\": {\n",
      "            \"type\": \"integer\",\n",
      "            \"description\": \"Length of the song in seconds\"\n",
      "        },\n",
      "        \"genre\": {\n",
      "            \"type\": \"string\",\n",
      "            \"description\": \"The song genre, one of \"pop\", \"rock\" or \"rap\"\"\n",
      "        }\n",
      "    }\n",
      "}\n",
      "```\n",
      "\n",
      "User Query:\n",
      "What are songs that were not published on Spotify\n",
      "\n",
      "Structured Request:\n",
      "```json\n",
      "{\n",
      "    \"query\": \"\",\n",
      "    \"filter\": \"NO_FILTER\"\n",
      "}\n",
      "```\n",
      "\n",
      "\n",
      "<< Example 3. >>\n",
      "Data Source:\n",
      "```json\n",
      "{\n",
      "    \"content\": \"Lyrics of a song\",\n",
      "    \"attributes\": {\n",
      "        \"artist\": {\n",
      "            \"type\": \"string\",\n",
      "            \"description\": \"Name of the song artist\"\n",
      "        },\n",
      "        \"length\": {\n",
      "            \"type\": \"integer\",\n",
      "            \"description\": \"Length of the song in seconds\"\n",
      "        },\n",
      "        \"genre\": {\n",
      "            \"type\": \"string\",\n",
      "            \"description\": \"The song genre, one of \"pop\", \"rock\" or \"rap\"\"\n",
      "        }\n",
      "    }\n",
      "}\n",
      "```\n",
      "\n",
      "User Query:\n",
      "What are three songs about love\n",
      "\n",
      "Structured Request:\n",
      "```json\n",
      "{\n",
      "    \"query\": \"love\",\n",
      "    \"filter\": \"NO_FILTER\",\n",
      "    \"limit\": 2\n",
      "}\n",
      "```\n",
      "\n",
      "\n",
      "<< Example 4. >>\n",
      "Data Source:\n",
      "```json\n",
      "{\n",
      "    \"content\": \"Brief description of the wine\",\n",
      "    \"attributes\": {\n",
      "    \"grape\": {\n",
      "        \"description\": \"The grape used to make the wine\",\n",
      "        \"type\": \"string or list[string]\"\n",
      "    },\n",
      "    \"name\": {\n",
      "        \"description\": \"The name of the wine\",\n",
      "        \"type\": \"string or list[string]\"\n",
      "    },\n",
      "    \"color\": {\n",
      "        \"description\": \"The color of the wine\",\n",
      "        \"type\": \"string or list[string]\"\n",
      "    },\n",
      "    \"year\": {\n",
      "        \"description\": \"The year the wine was released\",\n",
      "        \"type\": \"integer\"\n",
      "    },\n",
      "    \"country\": {\n",
      "        \"description\": \"The name of the country the wine comes from\",\n",
      "        \"type\": \"string\"\n",
      "    },\n",
      "    \"rating\": {\n",
      "        \"description\": \"The Robert Parker rating for the wine 0-100\",\n",
      "        \"type\": \"integer\"\n",
      "    }\n",
      "}\n",
      "}\n",
      "```\n",
      "\n",
      "User Query:\n",
      "\u001b[33;1m\u001b[1;3m{query}\u001b[0m\n",
      "\n",
      "Structured Request:\n",
      "\n"
     ]
    }
   ],
   "source": [
    "retriever.query_constructor.get_prompts()[0].pretty_print()"
   ]
  },
  {
   "cell_type": "code",
   "execution_count": null,
   "id": "8978c65c-db04-49d5-9f56-586e4a7c0990",
   "metadata": {},
   "outputs": [],
   "source": []
  }
 ],
 "metadata": {
  "kernelspec": {
   "display_name": "llm-py310",
   "language": "python",
   "name": "llm-py310"
  },
  "language_info": {
   "codemirror_mode": {
    "name": "ipython",
    "version": 3
   },
   "file_extension": ".py",
   "mimetype": "text/x-python",
   "name": "python",
   "nbconvert_exporter": "python",
   "pygments_lexer": "ipython3",
   "version": "3.10.14"
  }
 },
 "nbformat": 4,
 "nbformat_minor": 5
}
