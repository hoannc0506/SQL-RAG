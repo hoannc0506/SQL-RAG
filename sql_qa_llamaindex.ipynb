{
 "cells": [
  {
   "cell_type": "code",
   "execution_count": 2,
   "id": "09c93ad3-fa51-4fa9-aeaa-60e42428213b",
   "metadata": {},
   "outputs": [],
   "source": [
    "import logging\n",
    "import sys\n",
    "\n",
    "logging.basicConfig(stream=sys.stdout, level=logging.INFO)\n",
    "logging.getLogger().addHandler(logging.StreamHandler(stream=sys.stdout))"
   ]
  },
  {
   "cell_type": "code",
   "execution_count": 11,
   "id": "195e6e0c-3c53-4707-a903-bdf9fee8490c",
   "metadata": {},
   "outputs": [],
   "source": [
    "from IPython.display import display, Markdown"
   ]
  },
  {
   "cell_type": "code",
   "execution_count": 3,
   "id": "4e37ce70-112f-46f6-8411-e05a040c2bd5",
   "metadata": {},
   "outputs": [],
   "source": [
    "from sqlalchemy import (\n",
    "    create_engine,\n",
    "    MetaData,\n",
    "    Table,\n",
    "    Column,\n",
    "    String,\n",
    "    Integer,\n",
    "    select,\n",
    "    column,\n",
    ")"
   ]
  },
  {
   "cell_type": "code",
   "execution_count": 4,
   "id": "8c49cc10-c802-4d6f-9245-d6e7b2d00d79",
   "metadata": {},
   "outputs": [],
   "source": [
    "from llama_index.core import Settings, SQLDatabase\n",
    "from llama_index.llms.openai import OpenAI\n",
    "from llama_index.embeddings.openai import OpenAIEmbedding\n",
    "from llama_index.core.indices.struct_store import NLSQLTableQueryEngine"
   ]
  },
  {
   "cell_type": "code",
   "execution_count": 5,
   "id": "22bb8d65-04d5-47c1-b649-f1f1b6a40d00",
   "metadata": {},
   "outputs": [],
   "source": [
    "Settings.llm = OpenAI(model=\"gpt-4o-mini\")\n",
    "Settings.embed_model = OpenAIEmbedding(model=\"text-embedding-ada-002\")"
   ]
  },
  {
   "cell_type": "markdown",
   "id": "869057e4-2909-4cd8-b795-9044dff51e04",
   "metadata": {},
   "source": [
    "## Explore DB"
   ]
  },
  {
   "cell_type": "code",
   "execution_count": 6,
   "id": "1759b912-4b9f-40a8-b149-8746fcff957a",
   "metadata": {},
   "outputs": [],
   "source": [
    "engine = create_engine(\"sqlite:///Chinook.db\")\n",
    "metadata_obj = MetaData()"
   ]
  },
  {
   "cell_type": "code",
   "execution_count": 7,
   "id": "f6ee9a75-9d73-45e0-b477-6f10979aec41",
   "metadata": {},
   "outputs": [],
   "source": [
    "sql_database = SQLDatabase(engine)"
   ]
  },
  {
   "cell_type": "code",
   "execution_count": 8,
   "id": "61240186-0b35-4ddb-82b2-32458b8469bb",
   "metadata": {},
   "outputs": [
    {
     "data": {
      "text/plain": [
       "['Album',\n",
       " 'Artist',\n",
       " 'Customer',\n",
       " 'Employee',\n",
       " 'Genre',\n",
       " 'Invoice',\n",
       " 'InvoiceLine',\n",
       " 'MediaType',\n",
       " 'Playlist',\n",
       " 'PlaylistTrack',\n",
       " 'Track']"
      ]
     },
     "execution_count": 8,
     "metadata": {},
     "output_type": "execute_result"
    }
   ],
   "source": [
    "sql_database.get_usable_table_names()"
   ]
  },
  {
   "cell_type": "code",
   "execution_count": 9,
   "id": "420474c0-e5c7-4156-956f-aa1d389dda9d",
   "metadata": {},
   "outputs": [],
   "source": [
    "sql_query_engine = NLSQLTableQueryEngine(\n",
    "    sql_database=sql_database,\n",
    "    tables=['Album','Track', 'Artist'],\n",
    "    verbose=True\n",
    ")"
   ]
  },
  {
   "cell_type": "code",
   "execution_count": 10,
   "id": "acd117d6-dc3b-406f-a145-710c8e65219e",
   "metadata": {
    "scrolled": true
   },
   "outputs": [
    {
     "name": "stdout",
     "output_type": "stream",
     "text": [
      "INFO:llama_index.core.indices.struct_store.sql_retriever:> Table desc str: Table 'Album' has columns: AlbumId (INTEGER), Title (NVARCHAR(160)), ArtistId (INTEGER),  and foreign keys: ['ArtistId'] -> Artist.['ArtistId'].\n",
      "\n",
      "Table 'Track' has columns: TrackId (INTEGER), Name (NVARCHAR(200)), AlbumId (INTEGER), MediaTypeId (INTEGER), GenreId (INTEGER), Composer (NVARCHAR(220)), Milliseconds (INTEGER), Bytes (INTEGER), UnitPrice (NUMERIC(10, 2)),  and foreign keys: ['MediaTypeId'] -> MediaType.['MediaTypeId'], ['GenreId'] -> Genre.['GenreId'], ['AlbumId'] -> Album.['AlbumId'].\n",
      "\n",
      "Table 'Artist' has columns: ArtistId (INTEGER), Name (NVARCHAR(120)), .\n",
      "> Table desc str: Table 'Album' has columns: AlbumId (INTEGER), Title (NVARCHAR(160)), ArtistId (INTEGER),  and foreign keys: ['ArtistId'] -> Artist.['ArtistId'].\n",
      "\n",
      "Table 'Track' has columns: TrackId (INTEGER), Name (NVARCHAR(200)), AlbumId (INTEGER), MediaTypeId (INTEGER), GenreId (INTEGER), Composer (NVARCHAR(220)), Milliseconds (INTEGER), Bytes (INTEGER), UnitPrice (NUMERIC(10, 2)),  and foreign keys: ['MediaTypeId'] -> MediaType.['MediaTypeId'], ['GenreId'] -> Genre.['GenreId'], ['AlbumId'] -> Album.['AlbumId'].\n",
      "\n",
      "Table 'Artist' has columns: ArtistId (INTEGER), Name (NVARCHAR(120)), .\n",
      "INFO:httpx:HTTP Request: POST https://api.openai.com/v1/chat/completions \"HTTP/1.1 200 OK\"\n",
      "HTTP Request: POST https://api.openai.com/v1/chat/completions \"HTTP/1.1 200 OK\"\n",
      "INFO:httpx:HTTP Request: POST https://api.openai.com/v1/chat/completions \"HTTP/1.1 200 OK\"\n",
      "HTTP Request: POST https://api.openai.com/v1/chat/completions \"HTTP/1.1 200 OK\"\n"
     ]
    }
   ],
   "source": [
    "response = sql_query_engine.query(\"What are some albums? Limit to 5.\")"
   ]
  },
  {
   "cell_type": "code",
   "execution_count": 13,
   "id": "6cf9451f-ad14-4a23-80f7-d66d03ab4aba",
   "metadata": {},
   "outputs": [
    {
     "data": {
      "text/markdown": [
       "Here are five albums you might find interesting:\n",
       "\n",
       "1. For Those About To Rock We Salute You\n",
       "2. Balls to the Wall\n",
       "3. Restless and Wild\n",
       "4. Let There Be Rock\n",
       "5. Big Ones"
      ],
      "text/plain": [
       "<IPython.core.display.Markdown object>"
      ]
     },
     "metadata": {},
     "output_type": "display_data"
    }
   ],
   "source": [
    "display(Markdown(response.response))"
   ]
  },
  {
   "cell_type": "code",
   "execution_count": 14,
   "id": "52ff8518-c898-4bc3-adb2-f15338548e9a",
   "metadata": {},
   "outputs": [
    {
     "data": {
      "text/plain": [
       "{'7392fb20-8a74-4182-ae97-4e5ddf1b4bdc': {'sql_query': 'SELECT Album.Title FROM Album LIMIT 5;',\n",
       "  'result': [('For Those About To Rock We Salute You',),\n",
       "   ('Balls to the Wall',),\n",
       "   ('Restless and Wild',),\n",
       "   ('Let There Be Rock',),\n",
       "   ('Big Ones',)],\n",
       "  'col_keys': ['Title']},\n",
       " 'sql_query': 'SELECT Album.Title FROM Album LIMIT 5;',\n",
       " 'result': [('For Those About To Rock We Salute You',),\n",
       "  ('Balls to the Wall',),\n",
       "  ('Restless and Wild',),\n",
       "  ('Let There Be Rock',),\n",
       "  ('Big Ones',)],\n",
       " 'col_keys': ['Title']}"
      ]
     },
     "execution_count": 14,
     "metadata": {},
     "output_type": "execute_result"
    }
   ],
   "source": [
    "response.metadata"
   ]
  },
  {
   "cell_type": "code",
   "execution_count": 17,
   "id": "136b09dd-f3ba-4686-8f79-36dffc397259",
   "metadata": {},
   "outputs": [],
   "source": [
    "prompts_dict = sql_query_engine.get_prompts()"
   ]
  },
  {
   "cell_type": "code",
   "execution_count": 19,
   "id": "4454c009-68a7-437f-afc4-77f2f7bc0449",
   "metadata": {},
   "outputs": [
    {
     "name": "stdout",
     "output_type": "stream",
     "text": [
      "response_synthesis_prompt\n",
      "metadata={'prompt_type': <PromptType.SQL_RESPONSE_SYNTHESIS_V2: 'sql_response_synthesis_v2'>} template_vars=['query_str', 'sql_query', 'context_str'] kwargs={} output_parser=None template_var_mappings=None function_mappings=None template='Given an input question, synthesize a response from the query results.\\nQuery: {query_str}\\nSQL: {sql_query}\\nSQL Response: {context_str}\\nResponse: '\n",
      "sql_retriever:text_to_sql_prompt\n",
      "metadata={'prompt_type': <PromptType.TEXT_TO_SQL: 'text_to_sql'>} template_vars=['dialect', 'schema', 'query_str'] kwargs={} output_parser=None template_var_mappings=None function_mappings=None template='Given an input question, first create a syntactically correct {dialect} query to run, then look at the results of the query and return the answer. You can order the results by a relevant column to return the most interesting examples in the database.\\n\\nNever query for all the columns from a specific table, only ask for a few relevant columns given the question.\\n\\nPay attention to use only the column names that you can see in the schema description. Be careful to not query for columns that do not exist. Pay attention to which column is in which table. Also, qualify column names with the table name when needed. You are required to use the following format, each taking one line:\\n\\nQuestion: Question here\\nSQLQuery: SQL Query to run\\nSQLResult: Result of the SQLQuery\\nAnswer: Final answer here\\n\\nOnly use tables listed below.\\n{schema}\\n\\nQuestion: {query_str}\\nSQLQuery: '\n"
     ]
    }
   ],
   "source": [
    "for k, prompt_template in prompts_dict.items():\n",
    "    print(k)\n",
    "    print(prompt_template)"
   ]
  },
  {
   "cell_type": "code",
   "execution_count": null,
   "id": "63bc5f2c-2e4a-4b60-b647-c9422b0953b2",
   "metadata": {},
   "outputs": [],
   "source": []
  }
 ],
 "metadata": {
  "kernelspec": {
   "display_name": "llm-py310",
   "language": "python",
   "name": "llm-py310"
  },
  "language_info": {
   "codemirror_mode": {
    "name": "ipython",
    "version": 3
   },
   "file_extension": ".py",
   "mimetype": "text/x-python",
   "name": "python",
   "nbconvert_exporter": "python",
   "pygments_lexer": "ipython3",
   "version": "3.10.14"
  }
 },
 "nbformat": 4,
 "nbformat_minor": 5
}
